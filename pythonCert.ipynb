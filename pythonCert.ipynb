{
 "cells": [
  {
   "cell_type": "code",
   "execution_count": 2,
   "metadata": {},
   "outputs": [
    {
     "data": {
      "text/plain": [
       "2"
      ]
     },
     "execution_count": 2,
     "metadata": {},
     "output_type": "execute_result"
    }
   ],
   "source": [
    "5 // 2 # floor division"
   ]
  },
  {
   "cell_type": "code",
   "execution_count": 3,
   "metadata": {},
   "outputs": [
    {
     "data": {
      "text/plain": [
       "2.5"
      ]
     },
     "execution_count": 3,
     "metadata": {},
     "output_type": "execute_result"
    }
   ],
   "source": [
    "5/2 # division"
   ]
  },
  {
   "cell_type": "code",
   "execution_count": 18,
   "metadata": {},
   "outputs": [],
   "source": [
    "def factorial_recursive_function(n):\n",
    "    print(\"factorial_recursive_function called with \" + str(n))\n",
    "    if n < 2: # base case\n",
    "        print(\"Returning 1\")\n",
    "        return 1\n",
    "    result = n * factorial_recursive_function(n-1)\n",
    "    print(\"Returning \" + str(result) + \" for factorial of \" + str(n))\n",
    "    return result"
   ]
  },
  {
   "cell_type": "code",
   "execution_count": 21,
   "metadata": {},
   "outputs": [
    {
     "name": "stdout",
     "output_type": "stream",
     "text": [
      "factorial_recursive_function called with 4\n",
      "factorial_recursive_function called with 3\n",
      "factorial_recursive_function called with 2\n",
      "factorial_recursive_function called with 1\n",
      "Returning 1\n",
      "Returning 2 for factorial of 2\n",
      "Returning 6 for factorial of 3\n",
      "Returning 24 for factorial of 4\n"
     ]
    },
    {
     "data": {
      "text/plain": [
       "24"
      ]
     },
     "execution_count": 21,
     "metadata": {},
     "output_type": "execute_result"
    }
   ],
   "source": [
    "factorial_recursive_function(4)"
   ]
  },
  {
   "cell_type": "code",
   "execution_count": 29,
   "metadata": {},
   "outputs": [],
   "source": [
    "def sum_positive_numbers(n):\n",
    "    print(\"sum_positive_numbers called with \" + str(n))\n",
    "    # The base case is n being smaller than 1\n",
    "    if n < 1:\n",
    "        print(\"Returning 1\")\n",
    "        return 0\n",
    "\n",
    "    # The recursive case is adding this number to \n",
    "    # the sum of the numbers smaller than this one.\n",
    "\n",
    "    \n",
    "    result =  n + sum_positive_numbers(n-1)\n",
    "    print(\"Returning \" + str(result) + \" for sum of \" + str(n))\n",
    "    return result"
   ]
  },
  {
   "cell_type": "code",
   "execution_count": 30,
   "metadata": {},
   "outputs": [
    {
     "name": "stdout",
     "output_type": "stream",
     "text": [
      "sum_positive_numbers called with 3\n",
      "sum_positive_numbers called with 2\n",
      "sum_positive_numbers called with 1\n",
      "sum_positive_numbers called with 0\n",
      "Returning 1\n",
      "Returning 1 for sum of 1\n",
      "Returning 3 for sum of 2\n",
      "Returning 6 for sum of 3\n",
      "6\n"
     ]
    }
   ],
   "source": [
    "print(sum_positive_numbers(3)) # Should be 6\n"
   ]
  },
  {
   "cell_type": "code",
   "execution_count": 31,
   "metadata": {},
   "outputs": [
    {
     "name": "stdout",
     "output_type": "stream",
     "text": [
      "sum_positive_numbers called with 5\n",
      "sum_positive_numbers called with 4\n",
      "sum_positive_numbers called with 3\n",
      "sum_positive_numbers called with 2\n",
      "sum_positive_numbers called with 1\n",
      "sum_positive_numbers called with 0\n",
      "Returning 1\n",
      "Returning 1 for sum of 1\n",
      "Returning 3 for sum of 2\n",
      "Returning 6 for sum of 3\n",
      "Returning 10 for sum of 4\n",
      "Returning 15 for sum of 5\n",
      "15\n"
     ]
    }
   ],
   "source": [
    "print(sum_positive_numbers(5)) # Should be 15"
   ]
  },
  {
   "cell_type": "code",
   "execution_count": 34,
   "metadata": {},
   "outputs": [],
   "source": [
    "# 1000 recursive calls is max in python"
   ]
  },
  {
   "cell_type": "markdown",
   "metadata": {},
   "source": [
    "Typical recursive structure\n",
    "```\n",
    "def recursive_function(parameters):\n",
    "    if base_case_condition(parameters):\n",
    "        return base_case_value\n",
    "    recursive_function(modified_parameters)\n",
    "```\n"
   ]
  },
  {
   "cell_type": "code",
   "execution_count": 39,
   "metadata": {},
   "outputs": [],
   "source": [
    "#https://stackoverflow.com/questions/73530834/is-the-bug-the-base-case-where-is-the-bug\n",
    "\n",
    "def is_power_of(number, base):\n",
    "  # Base case: when number is smaller than base.\n",
    "  if number < base:\n",
    "    # If number is equal to 1, it's a power (base**0).\n",
    "    return (number == 1)\n",
    "\n",
    "  # Recursive case: keep dividing number by base.\n",
    "  return is_power_of(number/base, base)"
   ]
  },
  {
   "cell_type": "code",
   "execution_count": 43,
   "metadata": {},
   "outputs": [
    {
     "name": "stdout",
     "output_type": "stream",
     "text": [
      "True\n",
      "True\n",
      "False\n"
     ]
    }
   ],
   "source": [
    "print(is_power_of(8,2)) # Should be True\n",
    "print(is_power_of(64,4)) # Should be True\n",
    "print(is_power_of(70,10)) # Should be False"
   ]
  },
  {
   "cell_type": "code",
   "execution_count": 47,
   "metadata": {},
   "outputs": [],
   "source": [
    "def count_users(group):\n",
    "  count = 0\n",
    "  for member in get_members(group):\n",
    "    count += 1\n",
    "    if is_group(member):\n",
    "      count += count_users(member)\n",
    "  return count"
   ]
  },
  {
   "cell_type": "code",
   "execution_count": 46,
   "metadata": {},
   "outputs": [
    {
     "ename": "NameError",
     "evalue": "name 'get_members' is not defined",
     "output_type": "error",
     "traceback": [
      "\u001b[0;31m---------------------------------------------------------------------------\u001b[0m",
      "\u001b[0;31mNameError\u001b[0m                                 Traceback (most recent call last)",
      "\u001b[1;32m/Users/home/Documents/GitHub/python-cert/pythonCert.ipynb Cell 13\u001b[0m in \u001b[0;36m<cell line: 1>\u001b[0;34m()\u001b[0m\n\u001b[0;32m----> <a href='vscode-notebook-cell:/Users/home/Documents/GitHub/python-cert/pythonCert.ipynb#X20sZmlsZQ%3D%3D?line=0'>1</a>\u001b[0m \u001b[39mprint\u001b[39m(count_users(\u001b[39m\"\u001b[39;49m\u001b[39msales\u001b[39;49m\u001b[39m\"\u001b[39;49m)) \u001b[39m# Should be 3\u001b[39;00m\n\u001b[1;32m      <a href='vscode-notebook-cell:/Users/home/Documents/GitHub/python-cert/pythonCert.ipynb#X20sZmlsZQ%3D%3D?line=1'>2</a>\u001b[0m \u001b[39mprint\u001b[39m(count_users(\u001b[39m\"\u001b[39m\u001b[39mengineering\u001b[39m\u001b[39m\"\u001b[39m)) \u001b[39m# Should be 8\u001b[39;00m\n\u001b[1;32m      <a href='vscode-notebook-cell:/Users/home/Documents/GitHub/python-cert/pythonCert.ipynb#X20sZmlsZQ%3D%3D?line=2'>3</a>\u001b[0m \u001b[39mprint\u001b[39m(count_users(\u001b[39m\"\u001b[39m\u001b[39meveryone\u001b[39m\u001b[39m\"\u001b[39m))\n",
      "\u001b[1;32m/Users/home/Documents/GitHub/python-cert/pythonCert.ipynb Cell 13\u001b[0m in \u001b[0;36mcount_users\u001b[0;34m(group)\u001b[0m\n\u001b[1;32m      <a href='vscode-notebook-cell:/Users/home/Documents/GitHub/python-cert/pythonCert.ipynb#X20sZmlsZQ%3D%3D?line=0'>1</a>\u001b[0m \u001b[39mdef\u001b[39;00m \u001b[39mcount_users\u001b[39m(group):\n\u001b[1;32m      <a href='vscode-notebook-cell:/Users/home/Documents/GitHub/python-cert/pythonCert.ipynb#X20sZmlsZQ%3D%3D?line=1'>2</a>\u001b[0m   count \u001b[39m=\u001b[39m \u001b[39m0\u001b[39m\n\u001b[0;32m----> <a href='vscode-notebook-cell:/Users/home/Documents/GitHub/python-cert/pythonCert.ipynb#X20sZmlsZQ%3D%3D?line=2'>3</a>\u001b[0m   \u001b[39mfor\u001b[39;00m member \u001b[39min\u001b[39;00m get_members(group):\n\u001b[1;32m      <a href='vscode-notebook-cell:/Users/home/Documents/GitHub/python-cert/pythonCert.ipynb#X20sZmlsZQ%3D%3D?line=3'>4</a>\u001b[0m     count \u001b[39m+\u001b[39m\u001b[39m=\u001b[39m \u001b[39m1\u001b[39m\n\u001b[1;32m      <a href='vscode-notebook-cell:/Users/home/Documents/GitHub/python-cert/pythonCert.ipynb#X20sZmlsZQ%3D%3D?line=4'>5</a>\u001b[0m     \u001b[39mif\u001b[39;00m is_group(member):\n",
      "\u001b[0;31mNameError\u001b[0m: name 'get_members' is not defined"
     ]
    }
   ],
   "source": [
    "print(count_users(\"sales\")) # Should be 3\n",
    "print(count_users(\"engineering\")) # Should be 8\n",
    "print(count_users(\"everyone\")) # Should be 18"
   ]
  }
 ],
 "metadata": {
  "kernelspec": {
   "display_name": "Python 3.8.9 64-bit",
   "language": "python",
   "name": "python3"
  },
  "language_info": {
   "codemirror_mode": {
    "name": "ipython",
    "version": 3
   },
   "file_extension": ".py",
   "mimetype": "text/x-python",
   "name": "python",
   "nbconvert_exporter": "python",
   "pygments_lexer": "ipython3",
   "version": "3.8.9"
  },
  "orig_nbformat": 4,
  "vscode": {
   "interpreter": {
    "hash": "31f2aee4e71d21fbe5cf8b01ff0e069b9275f58929596ceb00d14d90e3e16cd6"
   }
  }
 },
 "nbformat": 4,
 "nbformat_minor": 2
}
